{
 "cells": [
  {
   "cell_type": "markdown",
   "metadata": {},
   "source": [
    "# JuzData - ODSLA - Columnas Geográficas"
   ]
  },
  {
   "cell_type": "markdown",
   "metadata": {},
   "source": [
    "En este notebook se trabaja sobre las columnas de información geográfica del dataset, para (1) rellenar los datos que estén incompletos y (2) tener un panorama de los datos que faltan y su naturaleza. "
   ]
  },
  {
   "cell_type": "code",
   "execution_count": 1,
   "metadata": {},
   "outputs": [],
   "source": [
    "import numpy as np\n",
    "import pandas as pd\n",
    "import matplotlib.pyplot as plt\n",
    "import seaborn as sns\n",
    "import warnings\n",
    "warnings.filterwarnings('ignore')"
   ]
  },
  {
   "cell_type": "markdown",
   "metadata": {},
   "source": [
    "Diccionario de las columnas del dataset principal."
   ]
  },
  {
   "cell_type": "code",
   "execution_count": 2,
   "metadata": {},
   "outputs": [
    {
     "data": {
      "text/plain": [
       "Index(['Variables ', 'Definición'], dtype='object')"
      ]
     },
     "execution_count": 2,
     "metadata": {},
     "output_type": "execute_result"
    }
   ],
   "source": [
    "df_dict = pd.read_excel('diccionario de datos ingresos a juzg.xlsx',\n",
    "                       header=0)\n",
    "df_dict.keys()"
   ]
  },
  {
   "cell_type": "code",
   "execution_count": 3,
   "metadata": {},
   "outputs": [
    {
     "data": {
      "text/plain": [
       "array(['org_idradactual', 'exp_cuij', 'org_idintpri', 'org_cod_pri',\n",
       "       'org_descorta_pri', 'org_descr_Pri', 'org_idintseg', 'est_id',\n",
       "       'est_descr', 'exp_anio', 'exp_cuerpos', 'exp_fojas',\n",
       "       'exp_detenidos', 'exp_id', 'exp_sufijo', 'exp_fechecho',\n",
       "       'exp_fecinidem', 'exp_fecini', 'exp_fecreg', 'exp_fecsor',\n",
       "       'exp_fecelev', 'exp_letra', 'oju_id', 'oju_descr', 'exp_ultmov',\n",
       "       'exp_ultmovf', 'den_id', 'den_cod_casoMPF', 'Tipo_ingreso_MPF',\n",
       "       'org_cod', 'org_descr', 'org_descorta', 'org_den',\n",
       "       'org_descorta_Den', 'org_descr_Den', 'den_flagrante', 'Comuna',\n",
       "       'den_altura', 'den_barrio', 'den_calle_id', 'den_cod_postal',\n",
       "       'den_entre_calle1_id', 'den_entre_calle2_id', 'den_fec_hecho',\n",
       "       'den_fec_ingreso_MPF', 'den_fec_ini_comi', 'den_hora_hecho',\n",
       "       'den_latitud', 'den_longitud', 'den_tipo_den', 'den_loc_id',\n",
       "       'den_calle_texto', 'den_lugar_hecho', 'exp_lughecho',\n",
       "       'den_sin_lugar_hecho', 'den_v_domestica', 'den_v_genero',\n",
       "       'den_zon_id', 'den_zona', 'PrimarioDen_id', 'PrimarioDen_id_oju',\n",
       "       'PrimarioExp_id', 'PrimarioExp_oju'], dtype=object)"
      ]
     },
     "execution_count": 3,
     "metadata": {},
     "output_type": "execute_result"
    }
   ],
   "source": [
    "# columnas del dataset ppal\n",
    "df_dict['Variables '].values "
   ]
  },
  {
   "cell_type": "code",
   "execution_count": 4,
   "metadata": {},
   "outputs": [
    {
     "data": {
      "text/html": [
       "<div>\n",
       "<style scoped>\n",
       "    .dataframe tbody tr th:only-of-type {\n",
       "        vertical-align: middle;\n",
       "    }\n",
       "\n",
       "    .dataframe tbody tr th {\n",
       "        vertical-align: top;\n",
       "    }\n",
       "\n",
       "    .dataframe thead th {\n",
       "        text-align: right;\n",
       "    }\n",
       "</style>\n",
       "<table border=\"1\" class=\"dataframe\">\n",
       "  <thead>\n",
       "    <tr style=\"text-align: right;\">\n",
       "      <th></th>\n",
       "      <th>Variables</th>\n",
       "      <th>Definición</th>\n",
       "    </tr>\n",
       "  </thead>\n",
       "  <tbody>\n",
       "    <tr>\n",
       "      <td>36</td>\n",
       "      <td>Comuna</td>\n",
       "      <td>Indica el número de comuna en el que ocurrió e...</td>\n",
       "    </tr>\n",
       "    <tr>\n",
       "      <td>37</td>\n",
       "      <td>den_altura</td>\n",
       "      <td>Altura de la calle en la que ocurrió el hecho</td>\n",
       "    </tr>\n",
       "    <tr>\n",
       "      <td>38</td>\n",
       "      <td>den_barrio</td>\n",
       "      <td>Barrio en el que ocurrió el hecho</td>\n",
       "    </tr>\n",
       "    <tr>\n",
       "      <td>39</td>\n",
       "      <td>den_calle_id</td>\n",
       "      <td>Código numérico de la calle del hecho</td>\n",
       "    </tr>\n",
       "    <tr>\n",
       "      <td>40</td>\n",
       "      <td>den_cod_postal</td>\n",
       "      <td>Código postal en el que ocurrió el hecho</td>\n",
       "    </tr>\n",
       "    <tr>\n",
       "      <td>41</td>\n",
       "      <td>den_entre_calle1_id</td>\n",
       "      <td>Código de la calle 1 entre la que ocurrió el h...</td>\n",
       "    </tr>\n",
       "    <tr>\n",
       "      <td>42</td>\n",
       "      <td>den_entre_calle2_id</td>\n",
       "      <td>Código de la calle 2 entre la que ocurrió el h...</td>\n",
       "    </tr>\n",
       "    <tr>\n",
       "      <td>47</td>\n",
       "      <td>den_latitud</td>\n",
       "      <td>Latitud del lugar del hecho</td>\n",
       "    </tr>\n",
       "    <tr>\n",
       "      <td>48</td>\n",
       "      <td>den_longitud</td>\n",
       "      <td>Longitud del lugar del hecho</td>\n",
       "    </tr>\n",
       "    <tr>\n",
       "      <td>50</td>\n",
       "      <td>den_loc_id</td>\n",
       "      <td>Código de la localidad del lugar  del hecho</td>\n",
       "    </tr>\n",
       "    <tr>\n",
       "      <td>51</td>\n",
       "      <td>den_calle_texto</td>\n",
       "      <td>Nombre de la calle del lugar del  hecho</td>\n",
       "    </tr>\n",
       "    <tr>\n",
       "      <td>52</td>\n",
       "      <td>den_lugar_hecho</td>\n",
       "      <td>Calle y altura del  lugar del hecho</td>\n",
       "    </tr>\n",
       "    <tr>\n",
       "      <td>53</td>\n",
       "      <td>exp_lughecho</td>\n",
       "      <td>Calle y altura del  lugar del hecho</td>\n",
       "    </tr>\n",
       "    <tr>\n",
       "      <td>54</td>\n",
       "      <td>den_sin_lugar_hecho</td>\n",
       "      <td>Indica si no se pudo identificar el lugar del ...</td>\n",
       "    </tr>\n",
       "    <tr>\n",
       "      <td>57</td>\n",
       "      <td>den_zon_id</td>\n",
       "      <td>Código de las zonas del MPF</td>\n",
       "    </tr>\n",
       "    <tr>\n",
       "      <td>58</td>\n",
       "      <td>den_zona</td>\n",
       "      <td>Nombre de la Zona del MPF</td>\n",
       "    </tr>\n",
       "  </tbody>\n",
       "</table>\n",
       "</div>"
      ],
      "text/plain": [
       "             Variables                                          Definición\n",
       "36               Comuna  Indica el número de comuna en el que ocurrió e...\n",
       "37           den_altura      Altura de la calle en la que ocurrió el hecho\n",
       "38           den_barrio                  Barrio en el que ocurrió el hecho\n",
       "39         den_calle_id              Código numérico de la calle del hecho\n",
       "40       den_cod_postal           Código postal en el que ocurrió el hecho\n",
       "41  den_entre_calle1_id  Código de la calle 1 entre la que ocurrió el h...\n",
       "42  den_entre_calle2_id  Código de la calle 2 entre la que ocurrió el h...\n",
       "47          den_latitud                        Latitud del lugar del hecho\n",
       "48         den_longitud                       Longitud del lugar del hecho\n",
       "50           den_loc_id        Código de la localidad del lugar  del hecho\n",
       "51      den_calle_texto            Nombre de la calle del lugar del  hecho\n",
       "52      den_lugar_hecho                Calle y altura del  lugar del hecho\n",
       "53         exp_lughecho                Calle y altura del  lugar del hecho\n",
       "54  den_sin_lugar_hecho  Indica si no se pudo identificar el lugar del ...\n",
       "57           den_zon_id                        Código de las zonas del MPF\n",
       "58             den_zona                          Nombre de la Zona del MPF"
      ]
     },
     "execution_count": 4,
     "metadata": {},
     "output_type": "execute_result"
    }
   ],
   "source": [
    "col_geo = ['Comuna','den_altura', 'den_barrio', 'den_calle_id', 'den_cod_postal',\n",
    "       'den_entre_calle1_id', 'den_entre_calle2_id',\n",
    "       'den_latitud', 'den_longitud', 'den_loc_id',\n",
    "       'den_calle_texto', 'den_lugar_hecho', 'exp_lughecho',\n",
    "       'den_sin_lugar_hecho','den_zon_id', 'den_zona',]\n",
    "\n",
    "\n",
    "df_dict[df_dict['Variables '].isin(col_geo)]"
   ]
  },
  {
   "cell_type": "code",
   "execution_count": 5,
   "metadata": {},
   "outputs": [
    {
     "data": {
      "text/html": [
       "<div>\n",
       "<style scoped>\n",
       "    .dataframe tbody tr th:only-of-type {\n",
       "        vertical-align: middle;\n",
       "    }\n",
       "\n",
       "    .dataframe tbody tr th {\n",
       "        vertical-align: top;\n",
       "    }\n",
       "\n",
       "    .dataframe thead th {\n",
       "        text-align: right;\n",
       "    }\n",
       "</style>\n",
       "<table border=\"1\" class=\"dataframe\">\n",
       "  <thead>\n",
       "    <tr style=\"text-align: right;\">\n",
       "      <th></th>\n",
       "      <th>org_idradactual</th>\n",
       "      <th>exp_cuij</th>\n",
       "      <th>org_idintpri</th>\n",
       "      <th>org_cod_pri</th>\n",
       "      <th>org_descorta_pri</th>\n",
       "      <th>org_descr_Pri</th>\n",
       "      <th>org_idintseg</th>\n",
       "      <th>est_id</th>\n",
       "      <th>est_descr</th>\n",
       "      <th>exp_anio</th>\n",
       "      <th>...</th>\n",
       "      <th>den_v_domestica</th>\n",
       "      <th>den_v_genero</th>\n",
       "      <th>den_zon_id</th>\n",
       "      <th>den_zona</th>\n",
       "      <th>filter_.</th>\n",
       "      <th>org_destino_act</th>\n",
       "      <th>PrimarioDen_id</th>\n",
       "      <th>PrimarioDen_id_oju</th>\n",
       "      <th>PrimarioExp_id</th>\n",
       "      <th>PrimarioExp_oju</th>\n",
       "    </tr>\n",
       "  </thead>\n",
       "  <tbody>\n",
       "    <tr>\n",
       "      <td>0</td>\n",
       "      <td>72</td>\n",
       "      <td>01-00042685-3</td>\n",
       "      <td>72</td>\n",
       "      <td>JUZP01</td>\n",
       "      <td>JUZGADO N°1</td>\n",
       "      <td>JUZGADO DE 1RA INSTANCIA EN LO PENAL CONTRAVEN...</td>\n",
       "      <td>unknown</td>\n",
       "      <td>1</td>\n",
       "      <td>ASIGNADO</td>\n",
       "      <td>2016</td>\n",
       "      <td>...</td>\n",
       "      <td>NaN</td>\n",
       "      <td>NaN</td>\n",
       "      <td>unknown</td>\n",
       "      <td>unknown</td>\n",
       "      <td>1</td>\n",
       "      <td>unknown</td>\n",
       "      <td>1</td>\n",
       "      <td>1</td>\n",
       "      <td>1</td>\n",
       "      <td>1</td>\n",
       "    </tr>\n",
       "    <tr>\n",
       "      <td>1</td>\n",
       "      <td>72</td>\n",
       "      <td>01-00039012-3</td>\n",
       "      <td>72</td>\n",
       "      <td>JUZP01</td>\n",
       "      <td>JUZGADO N°1</td>\n",
       "      <td>JUZGADO DE 1RA INSTANCIA EN LO PENAL CONTRAVEN...</td>\n",
       "      <td>unknown</td>\n",
       "      <td>14</td>\n",
       "      <td>ARCHIVADO</td>\n",
       "      <td>2016</td>\n",
       "      <td>...</td>\n",
       "      <td>NaN</td>\n",
       "      <td>NaN</td>\n",
       "      <td>unknown</td>\n",
       "      <td>unknown</td>\n",
       "      <td>1</td>\n",
       "      <td>unknown</td>\n",
       "      <td>1</td>\n",
       "      <td>1</td>\n",
       "      <td>1</td>\n",
       "      <td>1</td>\n",
       "    </tr>\n",
       "    <tr>\n",
       "      <td>2</td>\n",
       "      <td>72</td>\n",
       "      <td>01-00035028-8</td>\n",
       "      <td>72</td>\n",
       "      <td>JUZP01</td>\n",
       "      <td>JUZGADO N°1</td>\n",
       "      <td>JUZGADO DE 1RA INSTANCIA EN LO PENAL CONTRAVEN...</td>\n",
       "      <td>unknown</td>\n",
       "      <td>1</td>\n",
       "      <td>ASIGNADO</td>\n",
       "      <td>2016</td>\n",
       "      <td>...</td>\n",
       "      <td>NaN</td>\n",
       "      <td>NaN</td>\n",
       "      <td>unknown</td>\n",
       "      <td>unknown</td>\n",
       "      <td>1</td>\n",
       "      <td>unknown</td>\n",
       "      <td>1</td>\n",
       "      <td>1</td>\n",
       "      <td>1</td>\n",
       "      <td>1</td>\n",
       "    </tr>\n",
       "    <tr>\n",
       "      <td>3</td>\n",
       "      <td>72</td>\n",
       "      <td>01-00036824-1</td>\n",
       "      <td>72</td>\n",
       "      <td>JUZP01</td>\n",
       "      <td>JUZGADO N°1</td>\n",
       "      <td>JUZGADO DE 1RA INSTANCIA EN LO PENAL CONTRAVEN...</td>\n",
       "      <td>unknown</td>\n",
       "      <td>14</td>\n",
       "      <td>ARCHIVADO</td>\n",
       "      <td>2016</td>\n",
       "      <td>...</td>\n",
       "      <td>NaN</td>\n",
       "      <td>NaN</td>\n",
       "      <td>unknown</td>\n",
       "      <td>unknown</td>\n",
       "      <td>1</td>\n",
       "      <td>unknown</td>\n",
       "      <td>1</td>\n",
       "      <td>1</td>\n",
       "      <td>1</td>\n",
       "      <td>1</td>\n",
       "    </tr>\n",
       "    <tr>\n",
       "      <td>4</td>\n",
       "      <td>72</td>\n",
       "      <td>01-00034124-6</td>\n",
       "      <td>72</td>\n",
       "      <td>JUZP01</td>\n",
       "      <td>JUZGADO N°1</td>\n",
       "      <td>JUZGADO DE 1RA INSTANCIA EN LO PENAL CONTRAVEN...</td>\n",
       "      <td>unknown</td>\n",
       "      <td>14</td>\n",
       "      <td>ARCHIVADO</td>\n",
       "      <td>2016</td>\n",
       "      <td>...</td>\n",
       "      <td>NaN</td>\n",
       "      <td>NaN</td>\n",
       "      <td>unknown</td>\n",
       "      <td>unknown</td>\n",
       "      <td>1</td>\n",
       "      <td>unknown</td>\n",
       "      <td>1</td>\n",
       "      <td>1</td>\n",
       "      <td>1</td>\n",
       "      <td>1</td>\n",
       "    </tr>\n",
       "  </tbody>\n",
       "</table>\n",
       "<p>5 rows × 59 columns</p>\n",
       "</div>"
      ],
      "text/plain": [
       "   org_idradactual       exp_cuij  org_idintpri org_cod_pri org_descorta_pri  \\\n",
       "0               72  01-00042685-3            72      JUZP01      JUZGADO N°1   \n",
       "1               72  01-00039012-3            72      JUZP01      JUZGADO N°1   \n",
       "2               72  01-00035028-8            72      JUZP01      JUZGADO N°1   \n",
       "3               72  01-00036824-1            72      JUZP01      JUZGADO N°1   \n",
       "4               72  01-00034124-6            72      JUZP01      JUZGADO N°1   \n",
       "\n",
       "                                       org_descr_Pri org_idintseg  est_id  \\\n",
       "0  JUZGADO DE 1RA INSTANCIA EN LO PENAL CONTRAVEN...      unknown       1   \n",
       "1  JUZGADO DE 1RA INSTANCIA EN LO PENAL CONTRAVEN...      unknown      14   \n",
       "2  JUZGADO DE 1RA INSTANCIA EN LO PENAL CONTRAVEN...      unknown       1   \n",
       "3  JUZGADO DE 1RA INSTANCIA EN LO PENAL CONTRAVEN...      unknown      14   \n",
       "4  JUZGADO DE 1RA INSTANCIA EN LO PENAL CONTRAVEN...      unknown      14   \n",
       "\n",
       "   est_descr  exp_anio  ...  den_v_domestica  den_v_genero den_zon_id  \\\n",
       "0   ASIGNADO      2016  ...              NaN           NaN    unknown   \n",
       "1  ARCHIVADO      2016  ...              NaN           NaN    unknown   \n",
       "2   ASIGNADO      2016  ...              NaN           NaN    unknown   \n",
       "3  ARCHIVADO      2016  ...              NaN           NaN    unknown   \n",
       "4  ARCHIVADO      2016  ...              NaN           NaN    unknown   \n",
       "\n",
       "   den_zona  filter_. org_destino_act PrimarioDen_id PrimarioDen_id_oju  \\\n",
       "0   unknown         1         unknown              1                  1   \n",
       "1   unknown         1         unknown              1                  1   \n",
       "2   unknown         1         unknown              1                  1   \n",
       "3   unknown         1         unknown              1                  1   \n",
       "4   unknown         1         unknown              1                  1   \n",
       "\n",
       "  PrimarioExp_id PrimarioExp_oju  \n",
       "0              1               1  \n",
       "1              1               1  \n",
       "2              1               1  \n",
       "3              1               1  \n",
       "4              1               1  \n",
       "\n",
       "[5 rows x 59 columns]"
      ]
     },
     "execution_count": 5,
     "metadata": {},
     "output_type": "execute_result"
    }
   ],
   "source": [
    "df = pd.read_excel('penal_df.xlsx')\n",
    "df.head()"
   ]
  },
  {
   "cell_type": "code",
   "execution_count": 6,
   "metadata": {},
   "outputs": [
    {
     "data": {
      "text/plain": [
       "Index(['org_idradactual', 'exp_cuij', 'org_idintpri', 'org_cod_pri',\n",
       "       'org_descorta_pri', 'org_descr_Pri', 'org_idintseg', 'est_id',\n",
       "       'est_descr', 'exp_anio', 'exp_cuerpos', 'exp_fojas', 'exp_detenidos',\n",
       "       'exp_id', 'exp_sufijo', 'exp_fechecho', 'exp_fecinidem', 'exp_fecini',\n",
       "       'exp_fecreg', 'exp_fecsor', 'exp_fecelev', 'exp_letra', 'oju_id',\n",
       "       'oju_descr', 'exp_ultmov', 'exp_ultmovf', 'den_id', 'den_cod_casoMPF',\n",
       "       'Tipo_ingreso_MPF', 'org_cod', 'org_descr', 'org_descorta', 'org_den',\n",
       "       'org_descorta_Den', 'org_descr_Den', 'den_flagrante', 'Comuna',\n",
       "       'den_barrio', 'den_calle_id', 'den_cod_postal', 'den_fec_hecho',\n",
       "       'den_fec_ingreso_MPF', 'den_fec_ini_comi', 'den_hora_hecho',\n",
       "       'den_latitud', 'den_longitud', 'den_tipo_den', 'den_loc_id',\n",
       "       'den_sin_lugar_hecho', 'den_v_domestica', 'den_v_genero', 'den_zon_id',\n",
       "       'den_zona', 'filter_.', 'org_destino_act', 'PrimarioDen_id',\n",
       "       'PrimarioDen_id_oju', 'PrimarioExp_id', 'PrimarioExp_oju'],\n",
       "      dtype='object')"
      ]
     },
     "execution_count": 6,
     "metadata": {},
     "output_type": "execute_result"
    }
   ],
   "source": [
    "df.columns"
   ]
  },
  {
   "cell_type": "code",
   "execution_count": 7,
   "metadata": {},
   "outputs": [
    {
     "name": "stdout",
     "output_type": "stream",
     "text": [
      "['den_altura', 'den_entre_calle1_id', 'den_entre_calle2_id', 'den_calle_texto', 'den_lugar_hecho', 'exp_lughecho']\n"
     ]
    }
   ],
   "source": [
    "# hay columnas en el diccionario que no están\n",
    "# en este dataset, las filtro\n",
    "no_match = [col for col in df_dict['Variables '].unique() if col not in df.columns]\n",
    "print(no_match)"
   ]
  },
  {
   "cell_type": "markdown",
   "metadata": {},
   "source": [
    "El problema de no tener las primeras tres columnas es que la calle ('den_calle_id') no me sirve de mucho si no tengo la altura o entre qué calles está. "
   ]
  },
  {
   "cell_type": "code",
   "execution_count": 8,
   "metadata": {},
   "outputs": [
    {
     "name": "stdout",
     "output_type": "stream",
     "text": [
      "['Comuna', 'den_barrio', 'den_calle_id', 'den_cod_postal', 'den_latitud', 'den_longitud', 'den_loc_id', 'den_sin_lugar_hecho', 'den_zon_id', 'den_zona']\n"
     ]
    }
   ],
   "source": [
    "# me quedo con las que coinciden\n",
    "col_geo = [col for col in col_geo if col in df.columns]\n",
    "print(col_geo)"
   ]
  },
  {
   "cell_type": "code",
   "execution_count": 9,
   "metadata": {},
   "outputs": [],
   "source": [
    "# convierto 'unknown' en NaN para contabilizar\n",
    "import itertools as it\n",
    "for i, col in it.product(df.index,df.columns):\n",
    "    if df.at[i,col] == 'unknown':\n",
    "        df.at[i,col] = np.nan"
   ]
  },
  {
   "cell_type": "code",
   "execution_count": 10,
   "metadata": {},
   "outputs": [
    {
     "name": "stdout",
     "output_type": "stream",
     "text": [
      "Total muestra: 37136\n"
     ]
    }
   ],
   "source": [
    "print(f'Total muestra: {df.shape[0]}')"
   ]
  },
  {
   "cell_type": "code",
   "execution_count": 11,
   "metadata": {},
   "outputs": [
    {
     "data": {
      "text/plain": [
       "Comuna                 20479\n",
       "den_barrio             27396\n",
       "den_calle_id            9706\n",
       "den_cod_postal         27391\n",
       "den_latitud            26017\n",
       "den_longitud           26017\n",
       "den_loc_id             12064\n",
       "den_sin_lugar_hecho     3642\n",
       "den_zon_id             15004\n",
       "den_zona               32337\n",
       "dtype: int64"
      ]
     },
     "execution_count": 11,
     "metadata": {},
     "output_type": "execute_result"
    }
   ],
   "source": [
    "df[col_geo].isna().sum()"
   ]
  },
  {
   "cell_type": "code",
   "execution_count": 12,
   "metadata": {},
   "outputs": [
    {
     "data": {
      "text/plain": [
       "den_sin_lugar_hecho    22375\n",
       "den_loc_id             17322\n",
       "den_calle_id           16382\n",
       "den_zon_id             16333\n",
       "Comuna                 15215\n",
       "den_barrio              1882\n",
       "den_cod_postal          1881\n",
       "den_zona                   0\n",
       "den_longitud               0\n",
       "den_latitud                0\n",
       "dtype: int64"
      ]
     },
     "execution_count": 12,
     "metadata": {},
     "output_type": "execute_result"
    }
   ],
   "source": [
    "# quiero ver las columnas mas prometedoras\n",
    "# mis columnas base con den_lat, den_long\n",
    "filtro = df.den_latitud.isna()\n",
    "df[filtro][col_geo].notna().sum().sort_values(ascending=False)"
   ]
  },
  {
   "cell_type": "markdown",
   "metadata": {},
   "source": [
    "Analizamos las columnas en orden, de las que tienen menos NaNs a las que tienen más."
   ]
  },
  {
   "cell_type": "markdown",
   "metadata": {},
   "source": [
    "### den_loc_id"
   ]
  },
  {
   "cell_type": "code",
   "execution_count": 13,
   "metadata": {},
   "outputs": [
    {
     "data": {
      "text/html": [
       "<div>\n",
       "<style scoped>\n",
       "    .dataframe tbody tr th:only-of-type {\n",
       "        vertical-align: middle;\n",
       "    }\n",
       "\n",
       "    .dataframe tbody tr th {\n",
       "        vertical-align: top;\n",
       "    }\n",
       "\n",
       "    .dataframe thead th {\n",
       "        text-align: right;\n",
       "    }\n",
       "</style>\n",
       "<table border=\"1\" class=\"dataframe\">\n",
       "  <thead>\n",
       "    <tr style=\"text-align: right;\">\n",
       "      <th></th>\n",
       "      <th>Variables</th>\n",
       "      <th>Definición</th>\n",
       "    </tr>\n",
       "  </thead>\n",
       "  <tbody>\n",
       "    <tr>\n",
       "      <td>50</td>\n",
       "      <td>den_loc_id</td>\n",
       "      <td>Código de la localidad del lugar  del hecho</td>\n",
       "    </tr>\n",
       "  </tbody>\n",
       "</table>\n",
       "</div>"
      ],
      "text/plain": [
       "    Variables                                    Definición\n",
       "50  den_loc_id  Código de la localidad del lugar  del hecho"
      ]
     },
     "execution_count": 13,
     "metadata": {},
     "output_type": "execute_result"
    }
   ],
   "source": [
    "# definicion del dato\n",
    "df_dict[df_dict['Variables '] == 'den_loc_id']"
   ]
  },
  {
   "cell_type": "markdown",
   "metadata": {},
   "source": [
    "No estoy seguro qué sería el código de la localidad, habría que invertir algo de energía en averiguarlo (empezando por preguntar a Pablo y Yasmin). Antes vamos a ver a qué tan útil puede llegar a ser."
   ]
  },
  {
   "cell_type": "code",
   "execution_count": 14,
   "metadata": {},
   "outputs": [
    {
     "name": "stdout",
     "output_type": "stream",
     "text": [
      "Valores unicos: 14\n",
      "Valores: [nan 248 245 202 237 7130 171 1524 243 122 82 210 242 238]\n",
      "Instancias: 17322\n"
     ]
    }
   ],
   "source": [
    "print(f\"Valores unicos: {df['den_loc_id'].unique().shape[0]}\")\n",
    "print(f\"Valores: {df['den_loc_id'].unique()}\")\n",
    "inst_filtro = df[df.den_latitud.isna() & df.den_loc_id.notna()]\n",
    "instancias = inst_filtro.shape[0]\n",
    "print(f\"Instancias: {instancias}\")  "
   ]
  },
  {
   "cell_type": "code",
   "execution_count": 15,
   "metadata": {},
   "outputs": [
    {
     "data": {
      "text/plain": [
       "248     17298\n",
       "243         4\n",
       "7130        2\n",
       "1524        2\n",
       "245         2\n",
       "238         2\n",
       "237         2\n",
       "202         2\n",
       "171         2\n",
       "122         2\n",
       "82          2\n",
       "242         1\n",
       "210         1\n",
       "Name: den_loc_id, dtype: int64"
      ]
     },
     "execution_count": 15,
     "metadata": {},
     "output_type": "execute_result"
    }
   ],
   "source": [
    "df[filtro]['den_loc_id'].value_counts()"
   ]
  },
  {
   "cell_type": "markdown",
   "metadata": {},
   "source": [
    "Aún si pudiéramos averiguar la codificación de esta variable, no nos será de mucha utilidad para geolocalizar: la enorme mayoría de los datos tienen el mismo valor. O es un problema de data entry, o es irrelevante porque no clasifica. (Intuitivamente me inclino por pensar lo primero)."
   ]
  },
  {
   "cell_type": "markdown",
   "metadata": {},
   "source": [
    "### den_calle_id"
   ]
  },
  {
   "cell_type": "code",
   "execution_count": 16,
   "metadata": {},
   "outputs": [
    {
     "data": {
      "text/html": [
       "<div>\n",
       "<style scoped>\n",
       "    .dataframe tbody tr th:only-of-type {\n",
       "        vertical-align: middle;\n",
       "    }\n",
       "\n",
       "    .dataframe tbody tr th {\n",
       "        vertical-align: top;\n",
       "    }\n",
       "\n",
       "    .dataframe thead th {\n",
       "        text-align: right;\n",
       "    }\n",
       "</style>\n",
       "<table border=\"1\" class=\"dataframe\">\n",
       "  <thead>\n",
       "    <tr style=\"text-align: right;\">\n",
       "      <th></th>\n",
       "      <th>Variables</th>\n",
       "      <th>Definición</th>\n",
       "    </tr>\n",
       "  </thead>\n",
       "  <tbody>\n",
       "    <tr>\n",
       "      <td>39</td>\n",
       "      <td>den_calle_id</td>\n",
       "      <td>Código numérico de la calle del hecho</td>\n",
       "    </tr>\n",
       "  </tbody>\n",
       "</table>\n",
       "</div>"
      ],
      "text/plain": [
       "      Variables                              Definición\n",
       "39  den_calle_id  Código numérico de la calle del hecho"
      ]
     },
     "execution_count": 16,
     "metadata": {},
     "output_type": "execute_result"
    }
   ],
   "source": [
    "# definicion del dato\n",
    "df_dict[df_dict['Variables '] == 'den_calle_id']"
   ]
  },
  {
   "cell_type": "code",
   "execution_count": 17,
   "metadata": {},
   "outputs": [
    {
     "name": "stdout",
     "output_type": "stream",
     "text": [
      "Valores unicos: 6515\n",
      "Valores: [nan 14375 15237 ... 20050 84731 85163]\n",
      "Instancias: 16382\n"
     ]
    }
   ],
   "source": [
    "print(f\"Valores unicos: {df[filtro]['den_calle_id'].unique().shape[0]}\")\n",
    "print(f\"Valores: {df[filtro]['den_calle_id'].unique()}\")\n",
    "inst_filtro = df[df.den_latitud.isna() & df.den_calle_id.notna()]\n",
    "instancias = inst_filtro.shape[0]\n",
    "print(f\"Instancias: {instancias}\")      "
   ]
  },
  {
   "cell_type": "code",
   "execution_count": 18,
   "metadata": {},
   "outputs": [
    {
     "data": {
      "text/plain": [
       "13224    593\n",
       "8960     529\n",
       "10158    226\n",
       "17045    110\n",
       "12590     80\n",
       "17424     76\n",
       "8971      75\n",
       "Name: den_calle_id, dtype: int64"
      ]
     },
     "execution_count": 18,
     "metadata": {},
     "output_type": "execute_result"
    }
   ],
   "source": [
    "df[filtro]['den_calle_id'].value_counts().head(7)"
   ]
  },
  {
   "cell_type": "markdown",
   "metadata": {},
   "source": [
    "En principio el dato de las calles me serviría para geolocalizar 16382 instancias, pero para ello necesitaría que sucedan estas dos cosas: (1) tener el nomenclador de calles con 'den_calle_id' y (2) tener la altura o las calles-entre. Con respecto a 1, estuve buscando referencias de INDEC y de BA Data, ambos tienen nomencladores de calle (dejo copia en el repositorio) pero no encuentro coincidencia con este. De todos modos, esto no serviría si no tenemos acceso a (2). En caso de que consigamos estas dos cosas, BA Data tiene una API que parece bastante seria para pasar de este dato a coordenadas."
   ]
  },
  {
   "cell_type": "markdown",
   "metadata": {},
   "source": [
    "### den_zon_id"
   ]
  },
  {
   "cell_type": "code",
   "execution_count": 19,
   "metadata": {},
   "outputs": [
    {
     "data": {
      "text/html": [
       "<div>\n",
       "<style scoped>\n",
       "    .dataframe tbody tr th:only-of-type {\n",
       "        vertical-align: middle;\n",
       "    }\n",
       "\n",
       "    .dataframe tbody tr th {\n",
       "        vertical-align: top;\n",
       "    }\n",
       "\n",
       "    .dataframe thead th {\n",
       "        text-align: right;\n",
       "    }\n",
       "</style>\n",
       "<table border=\"1\" class=\"dataframe\">\n",
       "  <thead>\n",
       "    <tr style=\"text-align: right;\">\n",
       "      <th></th>\n",
       "      <th>Variables</th>\n",
       "      <th>Definición</th>\n",
       "    </tr>\n",
       "  </thead>\n",
       "  <tbody>\n",
       "    <tr>\n",
       "      <td>57</td>\n",
       "      <td>den_zon_id</td>\n",
       "      <td>Código de las zonas del MPF</td>\n",
       "    </tr>\n",
       "  </tbody>\n",
       "</table>\n",
       "</div>"
      ],
      "text/plain": [
       "    Variables                    Definición\n",
       "57  den_zon_id  Código de las zonas del MPF"
      ]
     },
     "execution_count": 19,
     "metadata": {},
     "output_type": "execute_result"
    }
   ],
   "source": [
    "# definicion del dato\n",
    "df_dict[df_dict['Variables '] == 'den_zon_id']"
   ]
  },
  {
   "cell_type": "code",
   "execution_count": 20,
   "metadata": {},
   "outputs": [
    {
     "name": "stdout",
     "output_type": "stream",
     "text": [
      "Valores unicos: 7\n",
      "Valores: [nan 5 1 7 3 8 9]\n",
      "Instancias: 16333\n"
     ]
    }
   ],
   "source": [
    "print(f\"Valores unicos: {df[filtro]['den_zon_id'].unique().shape[0]}\")\n",
    "print(f\"Valores: {df[filtro]['den_zon_id'].unique()}\")\n",
    "inst_filtro = df[df.den_latitud.isna() & df.den_zon_id.notna()]\n",
    "instancias = inst_filtro.shape[0]\n",
    "print(f\"Instancias: {instancias}\") "
   ]
  },
  {
   "cell_type": "code",
   "execution_count": 21,
   "metadata": {},
   "outputs": [
    {
     "data": {
      "text/plain": [
       "1    5085\n",
       "5    4131\n",
       "7    3969\n",
       "3    2840\n",
       "8     301\n",
       "9       7\n",
       "Name: den_zon_id, dtype: int64"
      ]
     },
     "execution_count": 21,
     "metadata": {},
     "output_type": "execute_result"
    }
   ],
   "source": [
    "df[filtro]['den_zon_id'].value_counts()"
   ]
  },
  {
   "cell_type": "markdown",
   "metadata": {},
   "source": [
    "Zonas muy grandes como para que sean útiles para geolocalizar."
   ]
  },
  {
   "cell_type": "markdown",
   "metadata": {},
   "source": [
    "### Comuna"
   ]
  },
  {
   "cell_type": "code",
   "execution_count": 22,
   "metadata": {},
   "outputs": [
    {
     "data": {
      "text/html": [
       "<div>\n",
       "<style scoped>\n",
       "    .dataframe tbody tr th:only-of-type {\n",
       "        vertical-align: middle;\n",
       "    }\n",
       "\n",
       "    .dataframe tbody tr th {\n",
       "        vertical-align: top;\n",
       "    }\n",
       "\n",
       "    .dataframe thead th {\n",
       "        text-align: right;\n",
       "    }\n",
       "</style>\n",
       "<table border=\"1\" class=\"dataframe\">\n",
       "  <thead>\n",
       "    <tr style=\"text-align: right;\">\n",
       "      <th></th>\n",
       "      <th>Variables</th>\n",
       "      <th>Definición</th>\n",
       "    </tr>\n",
       "  </thead>\n",
       "  <tbody>\n",
       "    <tr>\n",
       "      <td>36</td>\n",
       "      <td>Comuna</td>\n",
       "      <td>Indica el número de comuna en el que ocurrió e...</td>\n",
       "    </tr>\n",
       "  </tbody>\n",
       "</table>\n",
       "</div>"
      ],
      "text/plain": [
       "   Variables                                          Definición\n",
       "36     Comuna  Indica el número de comuna en el que ocurrió e..."
      ]
     },
     "execution_count": 22,
     "metadata": {},
     "output_type": "execute_result"
    }
   ],
   "source": [
    "# definicion del dato\n",
    "df_dict[df_dict['Variables '] == 'Comuna']"
   ]
  },
  {
   "cell_type": "code",
   "execution_count": 23,
   "metadata": {},
   "outputs": [
    {
     "name": "stdout",
     "output_type": "stream",
     "text": [
      "Valores unicos: 16\n",
      "Valores: [nan 9 1 7 10 4 6 5 11 8 3 2 14 12 13 15]\n",
      "Instancias: 15215\n"
     ]
    }
   ],
   "source": [
    "print(f\"Valores unicos: {df[filtro]['Comuna'].unique().shape[0]}\")\n",
    "print(f\"Valores: {df[filtro]['Comuna'].unique()}\")\n",
    "inst_filtro = df[df.den_latitud.isna() & df.Comuna.notna()]\n",
    "instancias = inst_filtro.shape[0]\n",
    "print(f\"Instancias: {instancias}\") "
   ]
  },
  {
   "cell_type": "markdown",
   "metadata": {},
   "source": [
    "Si bien el dato de Comuna no me sirve para geolocalizar dentro de cada cuadrícula de la grid, sí podemos rehacer el mapa de casos por Comuna agregándole estas instancias (lo hacemos en el notebook correspondiente)."
   ]
  },
  {
   "cell_type": "markdown",
   "metadata": {},
   "source": [
    "### barrio"
   ]
  },
  {
   "cell_type": "code",
   "execution_count": 24,
   "metadata": {},
   "outputs": [
    {
     "data": {
      "text/html": [
       "<div>\n",
       "<style scoped>\n",
       "    .dataframe tbody tr th:only-of-type {\n",
       "        vertical-align: middle;\n",
       "    }\n",
       "\n",
       "    .dataframe tbody tr th {\n",
       "        vertical-align: top;\n",
       "    }\n",
       "\n",
       "    .dataframe thead th {\n",
       "        text-align: right;\n",
       "    }\n",
       "</style>\n",
       "<table border=\"1\" class=\"dataframe\">\n",
       "  <thead>\n",
       "    <tr style=\"text-align: right;\">\n",
       "      <th></th>\n",
       "      <th>Variables</th>\n",
       "      <th>Definición</th>\n",
       "    </tr>\n",
       "  </thead>\n",
       "  <tbody>\n",
       "    <tr>\n",
       "      <td>38</td>\n",
       "      <td>den_barrio</td>\n",
       "      <td>Barrio en el que ocurrió el hecho</td>\n",
       "    </tr>\n",
       "  </tbody>\n",
       "</table>\n",
       "</div>"
      ],
      "text/plain": [
       "    Variables                          Definición\n",
       "38  den_barrio  Barrio en el que ocurrió el hecho"
      ]
     },
     "execution_count": 24,
     "metadata": {},
     "output_type": "execute_result"
    }
   ],
   "source": [
    "# definicion del dato\n",
    "df_dict[df_dict['Variables '] == 'den_barrio']"
   ]
  },
  {
   "cell_type": "code",
   "execution_count": 25,
   "metadata": {},
   "outputs": [
    {
     "name": "stdout",
     "output_type": "stream",
     "text": [
      "Valores unicos: 49\n",
      "Valores: [nan 26 36 24 39 3 38 16 23 20 7 28 4 17 12 5 45 47 29 18 48 30 43 9 22 2\n",
      " 34 13 42 6 32 8 15 11 19 14 21 41 31 46 27 33 10 1 35 25 40 44 37]\n",
      "Instancias: 1882\n"
     ]
    }
   ],
   "source": [
    "print(f\"Valores unicos: {df[filtro]['den_barrio'].unique().shape[0]}\")\n",
    "print(f\"Valores: {df[filtro]['den_barrio'].unique()}\")\n",
    "inst_filtro = df[df.den_latitud.isna() & df.den_barrio.notna()]\n",
    "instancias = inst_filtro.shape[0]\n",
    "print(f\"Instancias: {instancias}\") "
   ]
  },
  {
   "cell_type": "markdown",
   "metadata": {},
   "source": [
    "Misma observación que el apartado anterior, pero con un impacto mucho menor (1882 instancias)."
   ]
  },
  {
   "cell_type": "markdown",
   "metadata": {},
   "source": [
    "### den_cod_postal"
   ]
  },
  {
   "cell_type": "code",
   "execution_count": 26,
   "metadata": {},
   "outputs": [
    {
     "data": {
      "text/html": [
       "<div>\n",
       "<style scoped>\n",
       "    .dataframe tbody tr th:only-of-type {\n",
       "        vertical-align: middle;\n",
       "    }\n",
       "\n",
       "    .dataframe tbody tr th {\n",
       "        vertical-align: top;\n",
       "    }\n",
       "\n",
       "    .dataframe thead th {\n",
       "        text-align: right;\n",
       "    }\n",
       "</style>\n",
       "<table border=\"1\" class=\"dataframe\">\n",
       "  <thead>\n",
       "    <tr style=\"text-align: right;\">\n",
       "      <th></th>\n",
       "      <th>Variables</th>\n",
       "      <th>Definición</th>\n",
       "    </tr>\n",
       "  </thead>\n",
       "  <tbody>\n",
       "    <tr>\n",
       "      <td>40</td>\n",
       "      <td>den_cod_postal</td>\n",
       "      <td>Código postal en el que ocurrió el hecho</td>\n",
       "    </tr>\n",
       "  </tbody>\n",
       "</table>\n",
       "</div>"
      ],
      "text/plain": [
       "        Variables                                 Definición\n",
       "40  den_cod_postal  Código postal en el que ocurrió el hecho"
      ]
     },
     "execution_count": 26,
     "metadata": {},
     "output_type": "execute_result"
    }
   ],
   "source": [
    "# definicion del dato\n",
    "df_dict[df_dict['Variables '] == 'den_cod_postal']"
   ]
  },
  {
   "cell_type": "code",
   "execution_count": 27,
   "metadata": {},
   "outputs": [
    {
     "name": "stdout",
     "output_type": "stream",
     "text": [
      "Valores unicos: 260\n",
      "Valores: [nan 1437 1419 1082 1439 1408 1417 1407 1284 1405 1425 1424 1294 1265 1137\n",
      " 1440 1107 1406 1263 1059 1429 1264 1430 1416 1164 1226 1202 1214 1159\n",
      " 1252 1046 1005 1427 1231 1047 1025 1259 1136 1162 1086 1104 1290 1090\n",
      " 1032 1013 1135 1111 1029 1096 1428 1230 1150 1193 1042 1431 1206 1125\n",
      " 1414 1127 1051 1012 1241 1201 1255 1243 1248 1229 1008 1139 1262 1055\n",
      " 1089 1426 1088 1031 1153 1103 1209 1151 1045 1192 1052 1068 1041 1015\n",
      " 1181 1233 1288 1160 1296 1134 1112 1054 1256 1225 0 1240 1037 1039 1019\n",
      " 1118 1196 1050 1157 1283 1156 1155 1268 1272 1081 1168 1293 1295 1163\n",
      " 1270 1271 1245 1100 1079 1099 1083 1117 1061 1063 1075 1244 1101 1218\n",
      " 1161 1274 1203 1170 1221 1017 1182 1171 1213 1187 1043 1065 1200 1138\n",
      " 1215 1113 1048 1001 1094 1227 1020 1173 1044 1114 1016 1095 1053 1174\n",
      " 1024 1070 1175 1237 1185 1009 1056 1033 1210 1176 1178 1195 1194 1143\n",
      " 1177 1275 1066 1022 1077 1085 1228 1097 1091 1003 1257 1189 1122 1067\n",
      " 1247 1026 1260 1291 1246 1279 1282 1261 1158 1130 1276 1289 1165 1292\n",
      " 1278 1169 1208 1167 1286 1217 1199 1188 1133 1190 1179 1057 1183 1204\n",
      " 1062 1010 1184 1064 1154 1254 1069 1007 1119 1030 2 1034 1035 1076 1071\n",
      " 1128 1006 1152 1186 1110 1224 1080 1242 1207 1238 1180 1219 1123 1211\n",
      " 1140 1074 1093 1198 1040 1002 1078 1027 1092 1038 1191 1223 1021 1004\n",
      " 1212 1102 1120 1098 1106]\n",
      "Instancias: 1881\n"
     ]
    }
   ],
   "source": [
    "print(f\"Valores unicos: {df[filtro]['den_cod_postal'].unique().shape[0]}\")\n",
    "print(f\"Valores: {df[filtro]['den_cod_postal'].unique()}\")\n",
    "inst_filtro = df[df.den_latitud.isna() & df.den_cod_postal.notna()]\n",
    "instancias = inst_filtro.shape[0]\n",
    "print(f\"Instancias: {instancias}\") "
   ]
  },
  {
   "cell_type": "code",
   "execution_count": 28,
   "metadata": {},
   "outputs": [
    {
     "data": {
      "text/plain": [
       "1406    132\n",
       "1437    122\n",
       "1439     91\n",
       "1407     89\n",
       "1428     72\n",
       "1425     72\n",
       "1417     59\n",
       "Name: den_cod_postal, dtype: int64"
      ]
     },
     "execution_count": 28,
     "metadata": {},
     "output_type": "execute_result"
    }
   ],
   "source": [
    "df[filtro]['den_cod_postal'].value_counts().head(7)"
   ]
  },
  {
   "cell_type": "markdown",
   "metadata": {},
   "source": [
    "A continuación necesitamos vincular el CPA con coordenadas. Desafortunadamente no es tarea fácil. El Correo Argentino tiene un motor de búsqueda para ir de calles a CPA (pero no al revés). Conseguir bases de datos oficiales no me resultó posible (a pesar de que debiera ser información pública). Lo mejor que encontré fue este [repo de Github](https://github.com/OpenDataCordoba/codigo-postal-argentino), que tiene varias bases de datos que, con un poquito de dolor, podemos llevar a coordenadas (espero). La otra página que tiene datos en el formato que necesitaríamos (tabla con CPAs y coordenadas) es [GeoPostCodes](http://es.geopostcodes.com/Buenos_Aires_Capital_Federal). Lamentablemente hay que pagarla en ese caso. De todos modos, me parece que no sería demasiado útil, por lo que explico a continuación.\n",
    "\n",
    "El CPA (Código Postal Argentino) tiene en la actualidad tres letras y cuatro números, por ejemplo: C1406AGK. Según el [Correo Argentino](https://www.correoargentino.com.ar/formularios/cpa) (y [Wikipedia](https://en.wikipedia.org/wiki/Postal_codes_in_Argentina)), el CPA tiene la siguiente estructura: la primera letra se refiere a las provincias (C = CABA), los numeros identifican calle / altura / localidad, y las tres últimas letras la cara de la manzana. Esta descripción no es muy precisa, pero masajeando la base de datos que encontré se puede entender un poco mejor. \n",
    "\n",
    "Lo que necesitamos, en primer lugar, es si la información en el formato actual tiene una precision que nos resulte útil."
   ]
  },
  {
   "cell_type": "code",
   "execution_count": 29,
   "metadata": {},
   "outputs": [],
   "source": [
    "# dataset de codigos postales argentinos\n",
    "cpas = pd.read_csv('CPA/cpa_argentina/alturas.csv',sep=';')"
   ]
  },
  {
   "cell_type": "code",
   "execution_count": 30,
   "metadata": {},
   "outputs": [
    {
     "data": {
      "text/html": [
       "<div>\n",
       "<style scoped>\n",
       "    .dataframe tbody tr th:only-of-type {\n",
       "        vertical-align: middle;\n",
       "    }\n",
       "\n",
       "    .dataframe tbody tr th {\n",
       "        vertical-align: top;\n",
       "    }\n",
       "\n",
       "    .dataframe thead th {\n",
       "        text-align: right;\n",
       "    }\n",
       "</style>\n",
       "<table border=\"1\" class=\"dataframe\">\n",
       "  <thead>\n",
       "    <tr style=\"text-align: right;\">\n",
       "      <th></th>\n",
       "      <th>codcalle</th>\n",
       "      <th>desde</th>\n",
       "      <th>hasta</th>\n",
       "      <th>codpostal</th>\n",
       "    </tr>\n",
       "  </thead>\n",
       "  <tbody>\n",
       "    <tr>\n",
       "      <td>0</td>\n",
       "      <td>14284.0</td>\n",
       "      <td>1.0</td>\n",
       "      <td>2.0</td>\n",
       "      <td>S3077AAA</td>\n",
       "    </tr>\n",
       "    <tr>\n",
       "      <td>1</td>\n",
       "      <td>14285.0</td>\n",
       "      <td>1.0</td>\n",
       "      <td>2.0</td>\n",
       "      <td>S3077ABA</td>\n",
       "    </tr>\n",
       "    <tr>\n",
       "      <td>2</td>\n",
       "      <td>14286.0</td>\n",
       "      <td>1.0</td>\n",
       "      <td>2.0</td>\n",
       "      <td>S3077ACA</td>\n",
       "    </tr>\n",
       "    <tr>\n",
       "      <td>3</td>\n",
       "      <td>14287.0</td>\n",
       "      <td>1.0</td>\n",
       "      <td>2.0</td>\n",
       "      <td>S3077ADA</td>\n",
       "    </tr>\n",
       "    <tr>\n",
       "      <td>4</td>\n",
       "      <td>14289.0</td>\n",
       "      <td>1.0</td>\n",
       "      <td>2.0</td>\n",
       "      <td>S3077AEA</td>\n",
       "    </tr>\n",
       "  </tbody>\n",
       "</table>\n",
       "</div>"
      ],
      "text/plain": [
       "   codcalle  desde  hasta codpostal\n",
       "0   14284.0    1.0    2.0  S3077AAA\n",
       "1   14285.0    1.0    2.0  S3077ABA\n",
       "2   14286.0    1.0    2.0  S3077ACA\n",
       "3   14287.0    1.0    2.0  S3077ADA\n",
       "4   14289.0    1.0    2.0  S3077AEA"
      ]
     },
     "execution_count": 30,
     "metadata": {},
     "output_type": "execute_result"
    }
   ],
   "source": [
    "cpas.head()"
   ]
  },
  {
   "cell_type": "code",
   "execution_count": 31,
   "metadata": {},
   "outputs": [
    {
     "data": {
      "text/plain": [
       "(2116009, 4)"
      ]
     },
     "execution_count": 31,
     "metadata": {},
     "output_type": "execute_result"
    }
   ],
   "source": [
    "cpas.shape"
   ]
  },
  {
   "cell_type": "code",
   "execution_count": 32,
   "metadata": {},
   "outputs": [
    {
     "name": "stdout",
     "output_type": "stream",
     "text": [
      "<class 'pandas.core.frame.DataFrame'>\n",
      "RangeIndex: 2116009 entries, 0 to 2116008\n",
      "Data columns (total 4 columns):\n",
      "codcalle     float64\n",
      "desde        float64\n",
      "hasta        float64\n",
      "codpostal    object\n",
      "dtypes: float64(3), object(1)\n",
      "memory usage: 64.6+ MB\n"
     ]
    }
   ],
   "source": [
    "cpas.info()"
   ]
  },
  {
   "cell_type": "code",
   "execution_count": 33,
   "metadata": {},
   "outputs": [
    {
     "data": {
      "text/html": [
       "<div>\n",
       "<style scoped>\n",
       "    .dataframe tbody tr th:only-of-type {\n",
       "        vertical-align: middle;\n",
       "    }\n",
       "\n",
       "    .dataframe tbody tr th {\n",
       "        vertical-align: top;\n",
       "    }\n",
       "\n",
       "    .dataframe thead th {\n",
       "        text-align: right;\n",
       "    }\n",
       "</style>\n",
       "<table border=\"1\" class=\"dataframe\">\n",
       "  <thead>\n",
       "    <tr style=\"text-align: right;\">\n",
       "      <th></th>\n",
       "      <th>codcalle</th>\n",
       "      <th>desde</th>\n",
       "      <th>hasta</th>\n",
       "      <th>codpostal</th>\n",
       "      <th>Loc</th>\n",
       "    </tr>\n",
       "  </thead>\n",
       "  <tbody>\n",
       "    <tr>\n",
       "      <td>0</td>\n",
       "      <td>14284.0</td>\n",
       "      <td>1.0</td>\n",
       "      <td>2.0</td>\n",
       "      <td>S3077AAA</td>\n",
       "      <td>S</td>\n",
       "    </tr>\n",
       "    <tr>\n",
       "      <td>1</td>\n",
       "      <td>14285.0</td>\n",
       "      <td>1.0</td>\n",
       "      <td>2.0</td>\n",
       "      <td>S3077ABA</td>\n",
       "      <td>S</td>\n",
       "    </tr>\n",
       "    <tr>\n",
       "      <td>2</td>\n",
       "      <td>14286.0</td>\n",
       "      <td>1.0</td>\n",
       "      <td>2.0</td>\n",
       "      <td>S3077ACA</td>\n",
       "      <td>S</td>\n",
       "    </tr>\n",
       "    <tr>\n",
       "      <td>3</td>\n",
       "      <td>14287.0</td>\n",
       "      <td>1.0</td>\n",
       "      <td>2.0</td>\n",
       "      <td>S3077ADA</td>\n",
       "      <td>S</td>\n",
       "    </tr>\n",
       "    <tr>\n",
       "      <td>4</td>\n",
       "      <td>14289.0</td>\n",
       "      <td>1.0</td>\n",
       "      <td>2.0</td>\n",
       "      <td>S3077AEA</td>\n",
       "      <td>S</td>\n",
       "    </tr>\n",
       "  </tbody>\n",
       "</table>\n",
       "</div>"
      ],
      "text/plain": [
       "   codcalle  desde  hasta codpostal Loc\n",
       "0   14284.0    1.0    2.0  S3077AAA   S\n",
       "1   14285.0    1.0    2.0  S3077ABA   S\n",
       "2   14286.0    1.0    2.0  S3077ACA   S\n",
       "3   14287.0    1.0    2.0  S3077ADA   S\n",
       "4   14289.0    1.0    2.0  S3077AEA   S"
      ]
     },
     "execution_count": 33,
     "metadata": {},
     "output_type": "execute_result"
    }
   ],
   "source": [
    "# extraigo primera letra\n",
    "for i in cpas.index:\n",
    "    cpas.at[i,'Loc'] = str(cpas.at[i,'codpostal'])[0]\n",
    "cpas.head()"
   ]
  },
  {
   "cell_type": "code",
   "execution_count": 34,
   "metadata": {},
   "outputs": [
    {
     "data": {
      "text/html": [
       "<div>\n",
       "<style scoped>\n",
       "    .dataframe tbody tr th:only-of-type {\n",
       "        vertical-align: middle;\n",
       "    }\n",
       "\n",
       "    .dataframe tbody tr th {\n",
       "        vertical-align: top;\n",
       "    }\n",
       "\n",
       "    .dataframe thead th {\n",
       "        text-align: right;\n",
       "    }\n",
       "</style>\n",
       "<table border=\"1\" class=\"dataframe\">\n",
       "  <thead>\n",
       "    <tr style=\"text-align: right;\">\n",
       "      <th></th>\n",
       "      <th>codcalle</th>\n",
       "      <th>desde</th>\n",
       "      <th>hasta</th>\n",
       "      <th>codpostal</th>\n",
       "      <th>Loc</th>\n",
       "    </tr>\n",
       "  </thead>\n",
       "  <tbody>\n",
       "    <tr>\n",
       "      <td>481739</td>\n",
       "      <td>76423.0</td>\n",
       "      <td>1801.0</td>\n",
       "      <td>1899.0</td>\n",
       "      <td>C1437HKA</td>\n",
       "      <td>C</td>\n",
       "    </tr>\n",
       "    <tr>\n",
       "      <td>481740</td>\n",
       "      <td>76423.0</td>\n",
       "      <td>1802.0</td>\n",
       "      <td>1900.0</td>\n",
       "      <td>C1437HKB</td>\n",
       "      <td>C</td>\n",
       "    </tr>\n",
       "    <tr>\n",
       "      <td>481741</td>\n",
       "      <td>76423.0</td>\n",
       "      <td>1901.0</td>\n",
       "      <td>1999.0</td>\n",
       "      <td>C1437HKC</td>\n",
       "      <td>C</td>\n",
       "    </tr>\n",
       "    <tr>\n",
       "      <td>481742</td>\n",
       "      <td>76423.0</td>\n",
       "      <td>1902.0</td>\n",
       "      <td>2000.0</td>\n",
       "      <td>C1437HKD</td>\n",
       "      <td>C</td>\n",
       "    </tr>\n",
       "    <tr>\n",
       "      <td>481743</td>\n",
       "      <td>76424.0</td>\n",
       "      <td>701.0</td>\n",
       "      <td>799.0</td>\n",
       "      <td>C1426BKA</td>\n",
       "      <td>C</td>\n",
       "    </tr>\n",
       "  </tbody>\n",
       "</table>\n",
       "</div>"
      ],
      "text/plain": [
       "        codcalle   desde   hasta codpostal Loc\n",
       "481739   76423.0  1801.0  1899.0  C1437HKA   C\n",
       "481740   76423.0  1802.0  1900.0  C1437HKB   C\n",
       "481741   76423.0  1901.0  1999.0  C1437HKC   C\n",
       "481742   76423.0  1902.0  2000.0  C1437HKD   C\n",
       "481743   76424.0   701.0   799.0  C1426BKA   C"
      ]
     },
     "execution_count": 34,
     "metadata": {},
     "output_type": "execute_result"
    }
   ],
   "source": [
    "cpas = cpas[cpas.Loc == 'C']\n",
    "cpas.head()"
   ]
  },
  {
   "cell_type": "code",
   "execution_count": 35,
   "metadata": {},
   "outputs": [],
   "source": [
    "# dataset de calles\n",
    "calles = pd.read_csv('CPA/cpa_argentina/calles.csv',sep=';')"
   ]
  },
  {
   "cell_type": "code",
   "execution_count": 36,
   "metadata": {},
   "outputs": [
    {
     "data": {
      "text/html": [
       "<div>\n",
       "<style scoped>\n",
       "    .dataframe tbody tr th:only-of-type {\n",
       "        vertical-align: middle;\n",
       "    }\n",
       "\n",
       "    .dataframe tbody tr th {\n",
       "        vertical-align: top;\n",
       "    }\n",
       "\n",
       "    .dataframe thead th {\n",
       "        text-align: right;\n",
       "    }\n",
       "</style>\n",
       "<table border=\"1\" class=\"dataframe\">\n",
       "  <thead>\n",
       "    <tr style=\"text-align: right;\">\n",
       "      <th></th>\n",
       "      <th>codcalle</th>\n",
       "      <th>tipocalle</th>\n",
       "      <th>nombrecalle</th>\n",
       "      <th>barrio</th>\n",
       "      <th>referencia</th>\n",
       "      <th>nombrealt</th>\n",
       "      <th>codloc</th>\n",
       "    </tr>\n",
       "  </thead>\n",
       "  <tbody>\n",
       "    <tr>\n",
       "      <td>0</td>\n",
       "      <td>14291</td>\n",
       "      <td>RUTA PROVINCIAL</td>\n",
       "      <td>*</td>\n",
       "      <td>TAB</td>\n",
       "      <td>TAB</td>\n",
       "      <td>2</td>\n",
       "      <td>1120</td>\n",
       "    </tr>\n",
       "    <tr>\n",
       "      <td>1</td>\n",
       "      <td>14284</td>\n",
       "      <td>CALLE</td>\n",
       "      <td>25 DE MAYO</td>\n",
       "      <td>TAB</td>\n",
       "      <td>TAB</td>\n",
       "      <td>25 DE MAYO</td>\n",
       "      <td>1120</td>\n",
       "    </tr>\n",
       "    <tr>\n",
       "      <td>2</td>\n",
       "      <td>14286</td>\n",
       "      <td>CALLE</td>\n",
       "      <td>GRAL MANUEL BELGRANO</td>\n",
       "      <td>TAB</td>\n",
       "      <td>TAB</td>\n",
       "      <td>BELGRANO GRAL MANUEL</td>\n",
       "      <td>1120</td>\n",
       "    </tr>\n",
       "    <tr>\n",
       "      <td>3</td>\n",
       "      <td>14290</td>\n",
       "      <td>CALLE</td>\n",
       "      <td>DR LISANDRO DE LA TORRE</td>\n",
       "      <td>TAB</td>\n",
       "      <td>TAB</td>\n",
       "      <td>DE LA TORRE DR LISANDRO</td>\n",
       "      <td>1120</td>\n",
       "    </tr>\n",
       "    <tr>\n",
       "      <td>4</td>\n",
       "      <td>14289</td>\n",
       "      <td>CALLE</td>\n",
       "      <td>GRAL LOPEZ</td>\n",
       "      <td>TAB</td>\n",
       "      <td>TAB</td>\n",
       "      <td>LOPEZ GRAL</td>\n",
       "      <td>1120</td>\n",
       "    </tr>\n",
       "  </tbody>\n",
       "</table>\n",
       "</div>"
      ],
      "text/plain": [
       "   codcalle        tipocalle              nombrecalle barrio referencia  \\\n",
       "0     14291  RUTA PROVINCIAL                        *    TAB        TAB   \n",
       "1     14284            CALLE               25 DE MAYO    TAB        TAB   \n",
       "2     14286            CALLE     GRAL MANUEL BELGRANO    TAB        TAB   \n",
       "3     14290            CALLE  DR LISANDRO DE LA TORRE    TAB        TAB   \n",
       "4     14289            CALLE               GRAL LOPEZ    TAB        TAB   \n",
       "\n",
       "                 nombrealt  codloc  \n",
       "0                        2    1120  \n",
       "1               25 DE MAYO    1120  \n",
       "2     BELGRANO GRAL MANUEL    1120  \n",
       "3  DE LA TORRE DR LISANDRO    1120  \n",
       "4               LOPEZ GRAL    1120  "
      ]
     },
     "execution_count": 36,
     "metadata": {},
     "output_type": "execute_result"
    }
   ],
   "source": [
    "calles.head()"
   ]
  },
  {
   "cell_type": "code",
   "execution_count": 37,
   "metadata": {},
   "outputs": [
    {
     "name": "stdout",
     "output_type": "stream",
     "text": [
      "<class 'pandas.core.frame.DataFrame'>\n",
      "RangeIndex: 150599 entries, 0 to 150598\n",
      "Data columns (total 7 columns):\n",
      "codcalle       150599 non-null int64\n",
      "tipocalle      150599 non-null object\n",
      "nombrecalle    150599 non-null object\n",
      "barrio         150599 non-null object\n",
      "referencia     150599 non-null object\n",
      "nombrealt      150599 non-null object\n",
      "codloc         150599 non-null int64\n",
      "dtypes: int64(2), object(5)\n",
      "memory usage: 8.0+ MB\n"
     ]
    }
   ],
   "source": [
    "calles.info()"
   ]
  },
  {
   "cell_type": "code",
   "execution_count": 38,
   "metadata": {},
   "outputs": [
    {
     "data": {
      "text/html": [
       "<div>\n",
       "<style scoped>\n",
       "    .dataframe tbody tr th:only-of-type {\n",
       "        vertical-align: middle;\n",
       "    }\n",
       "\n",
       "    .dataframe tbody tr th {\n",
       "        vertical-align: top;\n",
       "    }\n",
       "\n",
       "    .dataframe thead th {\n",
       "        text-align: right;\n",
       "    }\n",
       "</style>\n",
       "<table border=\"1\" class=\"dataframe\">\n",
       "  <thead>\n",
       "    <tr style=\"text-align: right;\">\n",
       "      <th></th>\n",
       "      <th>codcalle</th>\n",
       "      <th>desde</th>\n",
       "      <th>hasta</th>\n",
       "      <th>codpostal</th>\n",
       "      <th>Loc</th>\n",
       "      <th>tipocalle</th>\n",
       "      <th>nombrecalle</th>\n",
       "      <th>barrio</th>\n",
       "      <th>referencia</th>\n",
       "      <th>nombrealt</th>\n",
       "      <th>codloc</th>\n",
       "    </tr>\n",
       "  </thead>\n",
       "  <tbody>\n",
       "    <tr>\n",
       "      <td>0</td>\n",
       "      <td>76423.0</td>\n",
       "      <td>1801.0</td>\n",
       "      <td>1899.0</td>\n",
       "      <td>C1437HKA</td>\n",
       "      <td>C</td>\n",
       "      <td>PASAJE</td>\n",
       "      <td>1 DE MAYO</td>\n",
       "      <td>TAB</td>\n",
       "      <td>TAB</td>\n",
       "      <td>1 DE MAYO</td>\n",
       "      <td>5001.0</td>\n",
       "    </tr>\n",
       "    <tr>\n",
       "      <td>1</td>\n",
       "      <td>76423.0</td>\n",
       "      <td>1802.0</td>\n",
       "      <td>1900.0</td>\n",
       "      <td>C1437HKB</td>\n",
       "      <td>C</td>\n",
       "      <td>PASAJE</td>\n",
       "      <td>1 DE MAYO</td>\n",
       "      <td>TAB</td>\n",
       "      <td>TAB</td>\n",
       "      <td>1 DE MAYO</td>\n",
       "      <td>5001.0</td>\n",
       "    </tr>\n",
       "    <tr>\n",
       "      <td>2</td>\n",
       "      <td>76423.0</td>\n",
       "      <td>1901.0</td>\n",
       "      <td>1999.0</td>\n",
       "      <td>C1437HKC</td>\n",
       "      <td>C</td>\n",
       "      <td>PASAJE</td>\n",
       "      <td>1 DE MAYO</td>\n",
       "      <td>TAB</td>\n",
       "      <td>TAB</td>\n",
       "      <td>1 DE MAYO</td>\n",
       "      <td>5001.0</td>\n",
       "    </tr>\n",
       "    <tr>\n",
       "      <td>3</td>\n",
       "      <td>76423.0</td>\n",
       "      <td>1902.0</td>\n",
       "      <td>2000.0</td>\n",
       "      <td>C1437HKD</td>\n",
       "      <td>C</td>\n",
       "      <td>PASAJE</td>\n",
       "      <td>1 DE MAYO</td>\n",
       "      <td>TAB</td>\n",
       "      <td>TAB</td>\n",
       "      <td>1 DE MAYO</td>\n",
       "      <td>5001.0</td>\n",
       "    </tr>\n",
       "    <tr>\n",
       "      <td>4</td>\n",
       "      <td>76424.0</td>\n",
       "      <td>701.0</td>\n",
       "      <td>799.0</td>\n",
       "      <td>C1426BKA</td>\n",
       "      <td>C</td>\n",
       "      <td>CALLE</td>\n",
       "      <td>11 DE SEPTIEMBRE</td>\n",
       "      <td>TAB</td>\n",
       "      <td>TAB</td>\n",
       "      <td>11 DE SEPTIEMBRE</td>\n",
       "      <td>5001.0</td>\n",
       "    </tr>\n",
       "  </tbody>\n",
       "</table>\n",
       "</div>"
      ],
      "text/plain": [
       "   codcalle   desde   hasta codpostal Loc tipocalle       nombrecalle barrio  \\\n",
       "0   76423.0  1801.0  1899.0  C1437HKA   C    PASAJE         1 DE MAYO    TAB   \n",
       "1   76423.0  1802.0  1900.0  C1437HKB   C    PASAJE         1 DE MAYO    TAB   \n",
       "2   76423.0  1901.0  1999.0  C1437HKC   C    PASAJE         1 DE MAYO    TAB   \n",
       "3   76423.0  1902.0  2000.0  C1437HKD   C    PASAJE         1 DE MAYO    TAB   \n",
       "4   76424.0   701.0   799.0  C1426BKA   C     CALLE  11 DE SEPTIEMBRE    TAB   \n",
       "\n",
       "  referencia         nombrealt  codloc  \n",
       "0        TAB         1 DE MAYO  5001.0  \n",
       "1        TAB         1 DE MAYO  5001.0  \n",
       "2        TAB         1 DE MAYO  5001.0  \n",
       "3        TAB         1 DE MAYO  5001.0  \n",
       "4        TAB  11 DE SEPTIEMBRE  5001.0  "
      ]
     },
     "execution_count": 38,
     "metadata": {},
     "output_type": "execute_result"
    }
   ],
   "source": [
    "# join de CPAs y calles\n",
    "df_cpa = pd.merge(cpas,calles,\n",
    "                  on='codcalle',\n",
    "                 how='left')\n",
    "df_cpa.head()"
   ]
  },
  {
   "cell_type": "code",
   "execution_count": 39,
   "metadata": {},
   "outputs": [
    {
     "data": {
      "text/html": [
       "<div>\n",
       "<style scoped>\n",
       "    .dataframe tbody tr th:only-of-type {\n",
       "        vertical-align: middle;\n",
       "    }\n",
       "\n",
       "    .dataframe tbody tr th {\n",
       "        vertical-align: top;\n",
       "    }\n",
       "\n",
       "    .dataframe thead th {\n",
       "        text-align: right;\n",
       "    }\n",
       "</style>\n",
       "<table border=\"1\" class=\"dataframe\">\n",
       "  <thead>\n",
       "    <tr style=\"text-align: right;\">\n",
       "      <th></th>\n",
       "      <th>codcalle</th>\n",
       "      <th>desde</th>\n",
       "      <th>hasta</th>\n",
       "      <th>codpostal</th>\n",
       "      <th>Loc</th>\n",
       "      <th>tipocalle</th>\n",
       "      <th>nombrecalle</th>\n",
       "      <th>barrio</th>\n",
       "      <th>referencia</th>\n",
       "      <th>nombrealt</th>\n",
       "      <th>codloc</th>\n",
       "      <th>cp</th>\n",
       "    </tr>\n",
       "  </thead>\n",
       "  <tbody>\n",
       "    <tr>\n",
       "      <td>0</td>\n",
       "      <td>76423.0</td>\n",
       "      <td>1801.0</td>\n",
       "      <td>1899.0</td>\n",
       "      <td>C1437HKA</td>\n",
       "      <td>C</td>\n",
       "      <td>PASAJE</td>\n",
       "      <td>1 DE MAYO</td>\n",
       "      <td>TAB</td>\n",
       "      <td>TAB</td>\n",
       "      <td>1 DE MAYO</td>\n",
       "      <td>5001.0</td>\n",
       "      <td>1437.0</td>\n",
       "    </tr>\n",
       "    <tr>\n",
       "      <td>1</td>\n",
       "      <td>76423.0</td>\n",
       "      <td>1802.0</td>\n",
       "      <td>1900.0</td>\n",
       "      <td>C1437HKB</td>\n",
       "      <td>C</td>\n",
       "      <td>PASAJE</td>\n",
       "      <td>1 DE MAYO</td>\n",
       "      <td>TAB</td>\n",
       "      <td>TAB</td>\n",
       "      <td>1 DE MAYO</td>\n",
       "      <td>5001.0</td>\n",
       "      <td>1437.0</td>\n",
       "    </tr>\n",
       "    <tr>\n",
       "      <td>2</td>\n",
       "      <td>76423.0</td>\n",
       "      <td>1901.0</td>\n",
       "      <td>1999.0</td>\n",
       "      <td>C1437HKC</td>\n",
       "      <td>C</td>\n",
       "      <td>PASAJE</td>\n",
       "      <td>1 DE MAYO</td>\n",
       "      <td>TAB</td>\n",
       "      <td>TAB</td>\n",
       "      <td>1 DE MAYO</td>\n",
       "      <td>5001.0</td>\n",
       "      <td>1437.0</td>\n",
       "    </tr>\n",
       "    <tr>\n",
       "      <td>3</td>\n",
       "      <td>76423.0</td>\n",
       "      <td>1902.0</td>\n",
       "      <td>2000.0</td>\n",
       "      <td>C1437HKD</td>\n",
       "      <td>C</td>\n",
       "      <td>PASAJE</td>\n",
       "      <td>1 DE MAYO</td>\n",
       "      <td>TAB</td>\n",
       "      <td>TAB</td>\n",
       "      <td>1 DE MAYO</td>\n",
       "      <td>5001.0</td>\n",
       "      <td>1437.0</td>\n",
       "    </tr>\n",
       "    <tr>\n",
       "      <td>4</td>\n",
       "      <td>76424.0</td>\n",
       "      <td>701.0</td>\n",
       "      <td>799.0</td>\n",
       "      <td>C1426BKA</td>\n",
       "      <td>C</td>\n",
       "      <td>CALLE</td>\n",
       "      <td>11 DE SEPTIEMBRE</td>\n",
       "      <td>TAB</td>\n",
       "      <td>TAB</td>\n",
       "      <td>11 DE SEPTIEMBRE</td>\n",
       "      <td>5001.0</td>\n",
       "      <td>1426.0</td>\n",
       "    </tr>\n",
       "    <tr>\n",
       "      <td>5</td>\n",
       "      <td>76424.0</td>\n",
       "      <td>702.0</td>\n",
       "      <td>800.0</td>\n",
       "      <td>C1426BKB</td>\n",
       "      <td>C</td>\n",
       "      <td>CALLE</td>\n",
       "      <td>11 DE SEPTIEMBRE</td>\n",
       "      <td>TAB</td>\n",
       "      <td>TAB</td>\n",
       "      <td>11 DE SEPTIEMBRE</td>\n",
       "      <td>5001.0</td>\n",
       "      <td>1426.0</td>\n",
       "    </tr>\n",
       "    <tr>\n",
       "      <td>6</td>\n",
       "      <td>76424.0</td>\n",
       "      <td>801.0</td>\n",
       "      <td>899.0</td>\n",
       "      <td>C1426BKC</td>\n",
       "      <td>C</td>\n",
       "      <td>CALLE</td>\n",
       "      <td>11 DE SEPTIEMBRE</td>\n",
       "      <td>TAB</td>\n",
       "      <td>TAB</td>\n",
       "      <td>11 DE SEPTIEMBRE</td>\n",
       "      <td>5001.0</td>\n",
       "      <td>1426.0</td>\n",
       "    </tr>\n",
       "    <tr>\n",
       "      <td>7</td>\n",
       "      <td>76424.0</td>\n",
       "      <td>802.0</td>\n",
       "      <td>900.0</td>\n",
       "      <td>C1426BKD</td>\n",
       "      <td>C</td>\n",
       "      <td>CALLE</td>\n",
       "      <td>11 DE SEPTIEMBRE</td>\n",
       "      <td>TAB</td>\n",
       "      <td>TAB</td>\n",
       "      <td>11 DE SEPTIEMBRE</td>\n",
       "      <td>5001.0</td>\n",
       "      <td>1426.0</td>\n",
       "    </tr>\n",
       "    <tr>\n",
       "      <td>8</td>\n",
       "      <td>76424.0</td>\n",
       "      <td>901.0</td>\n",
       "      <td>999.0</td>\n",
       "      <td>C1426BKE</td>\n",
       "      <td>C</td>\n",
       "      <td>CALLE</td>\n",
       "      <td>11 DE SEPTIEMBRE</td>\n",
       "      <td>TAB</td>\n",
       "      <td>TAB</td>\n",
       "      <td>11 DE SEPTIEMBRE</td>\n",
       "      <td>5001.0</td>\n",
       "      <td>1426.0</td>\n",
       "    </tr>\n",
       "    <tr>\n",
       "      <td>9</td>\n",
       "      <td>76424.0</td>\n",
       "      <td>902.0</td>\n",
       "      <td>1000.0</td>\n",
       "      <td>C1426BKF</td>\n",
       "      <td>C</td>\n",
       "      <td>CALLE</td>\n",
       "      <td>11 DE SEPTIEMBRE</td>\n",
       "      <td>TAB</td>\n",
       "      <td>TAB</td>\n",
       "      <td>11 DE SEPTIEMBRE</td>\n",
       "      <td>5001.0</td>\n",
       "      <td>1426.0</td>\n",
       "    </tr>\n",
       "  </tbody>\n",
       "</table>\n",
       "</div>"
      ],
      "text/plain": [
       "   codcalle   desde   hasta codpostal Loc tipocalle       nombrecalle barrio  \\\n",
       "0   76423.0  1801.0  1899.0  C1437HKA   C    PASAJE         1 DE MAYO    TAB   \n",
       "1   76423.0  1802.0  1900.0  C1437HKB   C    PASAJE         1 DE MAYO    TAB   \n",
       "2   76423.0  1901.0  1999.0  C1437HKC   C    PASAJE         1 DE MAYO    TAB   \n",
       "3   76423.0  1902.0  2000.0  C1437HKD   C    PASAJE         1 DE MAYO    TAB   \n",
       "4   76424.0   701.0   799.0  C1426BKA   C     CALLE  11 DE SEPTIEMBRE    TAB   \n",
       "5   76424.0   702.0   800.0  C1426BKB   C     CALLE  11 DE SEPTIEMBRE    TAB   \n",
       "6   76424.0   801.0   899.0  C1426BKC   C     CALLE  11 DE SEPTIEMBRE    TAB   \n",
       "7   76424.0   802.0   900.0  C1426BKD   C     CALLE  11 DE SEPTIEMBRE    TAB   \n",
       "8   76424.0   901.0   999.0  C1426BKE   C     CALLE  11 DE SEPTIEMBRE    TAB   \n",
       "9   76424.0   902.0  1000.0  C1426BKF   C     CALLE  11 DE SEPTIEMBRE    TAB   \n",
       "\n",
       "  referencia         nombrealt  codloc      cp  \n",
       "0        TAB         1 DE MAYO  5001.0  1437.0  \n",
       "1        TAB         1 DE MAYO  5001.0  1437.0  \n",
       "2        TAB         1 DE MAYO  5001.0  1437.0  \n",
       "3        TAB         1 DE MAYO  5001.0  1437.0  \n",
       "4        TAB  11 DE SEPTIEMBRE  5001.0  1426.0  \n",
       "5        TAB  11 DE SEPTIEMBRE  5001.0  1426.0  \n",
       "6        TAB  11 DE SEPTIEMBRE  5001.0  1426.0  \n",
       "7        TAB  11 DE SEPTIEMBRE  5001.0  1426.0  \n",
       "8        TAB  11 DE SEPTIEMBRE  5001.0  1426.0  \n",
       "9        TAB  11 DE SEPTIEMBRE  5001.0  1426.0  "
      ]
     },
     "execution_count": 39,
     "metadata": {},
     "output_type": "execute_result"
    }
   ],
   "source": [
    "# llego los CPAs al formato de 4 numeros\n",
    "# que hay en el df juz_data\n",
    "for i in df_cpa.index:\n",
    "    df_cpa.at[i,'cp'] = int(df_cpa.at[i,'codpostal'][1:5])\n",
    "df_cpa.head(10)    "
   ]
  },
  {
   "cell_type": "markdown",
   "metadata": {},
   "source": [
    "Pareciera ser que los cuatro dígitos identifican la calle, mientras que las tres letras identifican la altura (dos combinaciones por cuadra, una para cada mano). Es decir que si no tengo las últimas tres letras no puedo ser muy preciso para geolocalizar. Pongámoslo en numeros."
   ]
  },
  {
   "cell_type": "code",
   "execution_count": 40,
   "metadata": {},
   "outputs": [
    {
     "name": "stdout",
     "output_type": "stream",
     "text": [
      "Total CPAs CABA: 45973\n",
      "Total Nros CPAs CABA: 306\n",
      "Cuadras por numero: 75.11928104575163\n"
     ]
    }
   ],
   "source": [
    "cpas_caba = df_cpa.shape[0]\n",
    "cpas_nro = df_cpa['cp'].unique().shape[0]\n",
    "print(f'Total CPAs CABA: {cpas_caba}')\n",
    "print(f'Total Nros CPAs CABA: {cpas_nro}')\n",
    "cuadras = (cpas_caba/cpas_nro)/2\n",
    "# divido por dos porque cada codigo de letras\n",
    "# abarca una sola mano de una cuadra\n",
    "print(f'Cuadras por numero: {cuadras}')"
   ]
  },
  {
   "cell_type": "markdown",
   "metadata": {},
   "source": [
    "Es decir que cada CPA en mi df de juz_data tendrá una imprecisión promedio de 75 cuadras. Para calles más largas (y ceteris paribus, con más causas), obviamente esto será peor. Veamos:"
   ]
  },
  {
   "cell_type": "code",
   "execution_count": 41,
   "metadata": {},
   "outputs": [
    {
     "name": "stdout",
     "output_type": "stream",
     "text": [
      "Cuadras por CPA\n",
      "CPA       Cuadras\n",
      "1407.0    1851.5\n",
      "1437.0    1380.0\n",
      "1406.0    1373.5\n",
      "1419.0    1372.5\n",
      "1439.0    1277.0\n",
      "Name: cp, dtype: float64\n"
     ]
    }
   ],
   "source": [
    "print('Cuadras por CPA')\n",
    "print(f'CPA       Cuadras')\n",
    "print(np.divide(df_cpa['cp'].value_counts(),2).head())"
   ]
  },
  {
   "cell_type": "markdown",
   "metadata": {},
   "source": [
    "No creo que haya calles con 1800 cuadras, será que cada CPA numérico puede tener más de una calle. Veamos."
   ]
  },
  {
   "cell_type": "code",
   "execution_count": 42,
   "metadata": {},
   "outputs": [
    {
     "data": {
      "text/plain": [
       "TAB                       71\n",
       "MARIANO ACOSTA            54\n",
       "LACARRA                   54\n",
       "MOZART                    54\n",
       "GRAL CESAR DIAZ           52\n",
       "                          ..\n",
       "TOKIO                      2\n",
       "CAGLIARI                   2\n",
       "CALINGASTA                 2\n",
       "RECUERDOS DE PROVINCIA     2\n",
       "VIGO                       2\n",
       "Name: nombrecalle, Length: 227, dtype: int64"
      ]
     },
     "execution_count": 42,
     "metadata": {},
     "output_type": "execute_result"
    }
   ],
   "source": [
    "# df_cpa[df_cpa.cp == 1407]\n",
    "df_cpa[df_cpa.cp == 1407]['nombrecalle'].value_counts()"
   ]
  },
  {
   "cell_type": "markdown",
   "metadata": {},
   "source": [
    "No solo tengo 1800 cuadras en 227 calles con ese nombre, sino que el valor más repetido es TAB, un NaN. \n",
    "\n",
    "En conclusión: el dato de CPA, solamente el número, es altamente impreciso, al punto de que no resulta útil para geolocalizar."
   ]
  }
 ],
 "metadata": {
  "kernelspec": {
   "display_name": "Python 3",
   "language": "python",
   "name": "python3"
  },
  "language_info": {
   "codemirror_mode": {
    "name": "ipython",
    "version": 3
   },
   "file_extension": ".py",
   "mimetype": "text/x-python",
   "name": "python",
   "nbconvert_exporter": "python",
   "pygments_lexer": "ipython3",
   "version": "3.7.4"
  }
 },
 "nbformat": 4,
 "nbformat_minor": 2
}
